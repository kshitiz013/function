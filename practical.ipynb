{
 "cells": [
  {
   "cell_type": "code",
   "execution_count": 1,
   "id": "1f5594b9-0753-4ac3-a57b-deb04f2fc675",
   "metadata": {},
   "outputs": [],
   "source": [
    "# # Q.Write a Python function that takes a list of numbers as input and returns the sum of all even numbers in\n",
    "# the list."
   ]
  },
  {
   "cell_type": "code",
   "execution_count": 2,
   "id": "04090598-8bd9-4e54-8a81-91a374c9955e",
   "metadata": {},
   "outputs": [
    {
     "name": "stdin",
     "output_type": "stream",
     "text": [
      "enter the number 1\n",
      "enter the number 2\n",
      "enter the number 3\n",
      "enter the number 4\n",
      "enter the number 5\n"
     ]
    },
    {
     "data": {
      "text/plain": [
       "6"
      ]
     },
     "execution_count": 2,
     "metadata": {},
     "output_type": "execute_result"
    }
   ],
   "source": [
    "list1=[]\n",
    "s=0\n",
    "for i in range(5):\n",
    "    a=int(input(\"enter the number\"))\n",
    "    list1.append(a)\n",
    "    \n",
    "for j in list1:\n",
    "    if j%2==0:\n",
    "        s=s+j\n",
    "        \n",
    "s\n",
    "        \n",
    "    "
   ]
  },
  {
   "cell_type": "code",
   "execution_count": 3,
   "id": "23c0b10b-4e5b-4109-9733-d1146eee2bcb",
   "metadata": {},
   "outputs": [],
   "source": [
    " # Create a Python function that accepts a string and returns the reverse of that string"
   ]
  },
  {
   "cell_type": "code",
   "execution_count": 4,
   "id": "43ae6fb6-679c-4c41-85bc-4035b60ee175",
   "metadata": {},
   "outputs": [
    {
     "data": {
      "text/plain": [
       "'sllikswp'"
      ]
     },
     "execution_count": 4,
     "metadata": {},
     "output_type": "execute_result"
    }
   ],
   "source": [
    "def reversee(a):\n",
    "    b=a[::-1]\n",
    "    return b\n",
    "reversee(\"pwskills\")"
   ]
  },
  {
   "cell_type": "code",
   "execution_count": null,
   "id": "4f705ac4-2c7b-4c45-aa7c-31a61e333f1b",
   "metadata": {},
   "outputs": [],
   "source": []
  },
  {
   "cell_type": "code",
   "execution_count": 5,
   "id": "5edbe3c5-a2cc-4221-abc2-b14d6bd7c914",
   "metadata": {},
   "outputs": [],
   "source": [
    "# Q.Implement a Python function that takes a list of integers and returns a new list containing the squares of\n",
    "# each number."
   ]
  },
  {
   "cell_type": "code",
   "execution_count": 6,
   "id": "d6ae5b02-fcc7-4130-b648-b6af2154e445",
   "metadata": {},
   "outputs": [
    {
     "data": {
      "text/plain": [
       "[1, 4, 9, 16, 25]"
      ]
     },
     "execution_count": 6,
     "metadata": {},
     "output_type": "execute_result"
    }
   ],
   "source": [
    "z=[]\n",
    "def sq(lists):\n",
    "     for i in list1:\n",
    "            p=i**2\n",
    "            z.append(p)\n",
    "     return z\n",
    "            \n",
    "sq([1,2,3,4,5])"
   ]
  },
  {
   "cell_type": "code",
   "execution_count": 7,
   "id": "981f7b6b-708c-44c7-956d-582eb9ba25cb",
   "metadata": {},
   "outputs": [],
   "source": [
    "# Q.. Write a Python function that checks if a given number is prime or not from 1 to 200."
   ]
  },
  {
   "cell_type": "code",
   "execution_count": 8,
   "id": "f5cb7500-7418-4730-a660-78635432b51a",
   "metadata": {},
   "outputs": [
    {
     "name": "stdout",
     "output_type": "stream",
     "text": [
      "1 is a prime number\n",
      "2 is a prime number\n",
      "3 is a prime number\n",
      "4 is a composite number\n",
      "5 is a prime number\n",
      "6 is a composite number\n",
      "7 is a prime number\n",
      "8 is a composite number\n",
      "9 is a composite number\n",
      "10 is a composite number\n",
      "11 is a prime number\n",
      "12 is a composite number\n",
      "13 is a prime number\n",
      "14 is a composite number\n",
      "15 is a composite number\n",
      "16 is a composite number\n",
      "17 is a prime number\n",
      "18 is a composite number\n",
      "19 is a prime number\n",
      "20 is a composite number\n",
      "21 is a composite number\n",
      "22 is a composite number\n",
      "23 is a prime number\n",
      "24 is a composite number\n",
      "25 is a composite number\n",
      "26 is a composite number\n",
      "27 is a composite number\n",
      "28 is a composite number\n",
      "29 is a prime number\n",
      "30 is a composite number\n",
      "31 is a prime number\n",
      "32 is a composite number\n",
      "33 is a composite number\n",
      "34 is a composite number\n",
      "35 is a composite number\n",
      "36 is a composite number\n",
      "37 is a prime number\n",
      "38 is a composite number\n",
      "39 is a composite number\n",
      "40 is a composite number\n",
      "41 is a prime number\n",
      "42 is a composite number\n",
      "43 is a prime number\n",
      "44 is a composite number\n",
      "45 is a composite number\n",
      "46 is a composite number\n",
      "47 is a prime number\n",
      "48 is a composite number\n",
      "49 is a composite number\n",
      "50 is a composite number\n",
      "51 is a composite number\n",
      "52 is a composite number\n",
      "53 is a prime number\n",
      "54 is a composite number\n",
      "55 is a composite number\n",
      "56 is a composite number\n",
      "57 is a composite number\n",
      "58 is a composite number\n",
      "59 is a prime number\n",
      "60 is a composite number\n",
      "61 is a prime number\n",
      "62 is a composite number\n",
      "63 is a composite number\n",
      "64 is a composite number\n",
      "65 is a composite number\n",
      "66 is a composite number\n",
      "67 is a prime number\n",
      "68 is a composite number\n",
      "69 is a composite number\n",
      "70 is a composite number\n",
      "71 is a prime number\n",
      "72 is a composite number\n",
      "73 is a prime number\n",
      "74 is a composite number\n",
      "75 is a composite number\n",
      "76 is a composite number\n",
      "77 is a composite number\n",
      "78 is a composite number\n",
      "79 is a prime number\n",
      "80 is a composite number\n",
      "81 is a composite number\n",
      "82 is a composite number\n",
      "83 is a prime number\n",
      "84 is a composite number\n",
      "85 is a composite number\n",
      "86 is a composite number\n",
      "87 is a composite number\n",
      "88 is a composite number\n",
      "89 is a prime number\n",
      "90 is a composite number\n",
      "91 is a composite number\n",
      "92 is a composite number\n",
      "93 is a composite number\n",
      "94 is a composite number\n",
      "95 is a composite number\n",
      "96 is a composite number\n",
      "97 is a prime number\n",
      "98 is a composite number\n",
      "99 is a composite number\n",
      "100 is a composite number\n",
      "101 is a prime number\n",
      "102 is a composite number\n",
      "103 is a prime number\n",
      "104 is a composite number\n",
      "105 is a composite number\n",
      "106 is a composite number\n",
      "107 is a prime number\n",
      "108 is a composite number\n",
      "109 is a prime number\n",
      "110 is a composite number\n",
      "111 is a composite number\n",
      "112 is a composite number\n",
      "113 is a prime number\n",
      "114 is a composite number\n",
      "115 is a composite number\n",
      "116 is a composite number\n",
      "117 is a composite number\n",
      "118 is a composite number\n",
      "119 is a composite number\n",
      "120 is a composite number\n",
      "121 is a composite number\n",
      "122 is a composite number\n",
      "123 is a composite number\n",
      "124 is a composite number\n",
      "125 is a composite number\n",
      "126 is a composite number\n",
      "127 is a prime number\n",
      "128 is a composite number\n",
      "129 is a composite number\n",
      "130 is a composite number\n",
      "131 is a prime number\n",
      "132 is a composite number\n",
      "133 is a composite number\n",
      "134 is a composite number\n",
      "135 is a composite number\n",
      "136 is a composite number\n",
      "137 is a prime number\n",
      "138 is a composite number\n",
      "139 is a prime number\n",
      "140 is a composite number\n",
      "141 is a composite number\n",
      "142 is a composite number\n",
      "143 is a composite number\n",
      "144 is a composite number\n",
      "145 is a composite number\n",
      "146 is a composite number\n",
      "147 is a composite number\n",
      "148 is a composite number\n",
      "149 is a prime number\n",
      "150 is a composite number\n",
      "151 is a prime number\n",
      "152 is a composite number\n",
      "153 is a composite number\n",
      "154 is a composite number\n",
      "155 is a composite number\n",
      "156 is a composite number\n",
      "157 is a prime number\n",
      "158 is a composite number\n",
      "159 is a composite number\n",
      "160 is a composite number\n",
      "161 is a composite number\n",
      "162 is a composite number\n",
      "163 is a prime number\n",
      "164 is a composite number\n",
      "165 is a composite number\n",
      "166 is a composite number\n",
      "167 is a prime number\n",
      "168 is a composite number\n",
      "169 is a composite number\n",
      "170 is a composite number\n",
      "171 is a composite number\n",
      "172 is a composite number\n",
      "173 is a prime number\n",
      "174 is a composite number\n",
      "175 is a composite number\n",
      "176 is a composite number\n",
      "177 is a composite number\n",
      "178 is a composite number\n",
      "179 is a prime number\n",
      "180 is a composite number\n",
      "181 is a prime number\n",
      "182 is a composite number\n",
      "183 is a composite number\n",
      "184 is a composite number\n",
      "185 is a composite number\n",
      "186 is a composite number\n",
      "187 is a composite number\n",
      "188 is a composite number\n",
      "189 is a composite number\n",
      "190 is a composite number\n",
      "191 is a prime number\n",
      "192 is a composite number\n",
      "193 is a prime number\n",
      "194 is a composite number\n",
      "195 is a composite number\n",
      "196 is a composite number\n",
      "197 is a prime number\n",
      "198 is a composite number\n",
      "199 is a prime number\n",
      "200 is a composite number\n"
     ]
    }
   ],
   "source": [
    "\n",
    "for i in range(1,201):\n",
    "    count=0\n",
    "    for j in range(1,i+1):\n",
    "        if i%j==0:\n",
    "            count=count+1\n",
    "    if count<=2:\n",
    "        print(f\"{i} is a prime number\")\n",
    "    else:\n",
    "        print(f\"{i} is a composite number\")"
   ]
  },
  {
   "cell_type": "code",
   "execution_count": null,
   "id": "44f456af-4628-4219-8554-82959bf0b615",
   "metadata": {},
   "outputs": [],
   "source": []
  },
  {
   "cell_type": "code",
   "execution_count": 9,
   "id": "a30c98d3-b9b9-44b1-8d8f-38ca3e8977cd",
   "metadata": {},
   "outputs": [],
   "source": [
    "# Q.Create an iterator class in Python that generates the Fibonacci sequence up to a specified number of terms.\n"
   ]
  },
  {
   "cell_type": "code",
   "execution_count": 10,
   "id": "e8d10adc-87ae-40a4-8f2b-0f48ed27a988",
   "metadata": {},
   "outputs": [],
   "source": [
    "\n",
    "def fibo(x):\n",
    "    a=0\n",
    "    b=1\n",
    "    for i in range(x):\n",
    "        yield a\n",
    "        a,b=b,a+b\n",
    "    \n",
    "p=fibo(5)"
   ]
  },
  {
   "cell_type": "code",
   "execution_count": 11,
   "id": "6a4f72f5-2bb9-439d-8907-66ad8a752fa4",
   "metadata": {},
   "outputs": [
    {
     "data": {
      "text/plain": [
       "<generator object fibo at 0x7fb138e01cb0>"
      ]
     },
     "execution_count": 11,
     "metadata": {},
     "output_type": "execute_result"
    }
   ],
   "source": [
    "p"
   ]
  },
  {
   "cell_type": "code",
   "execution_count": 12,
   "id": "14071ab4-d5cb-49ea-9974-02bbc0845b4d",
   "metadata": {},
   "outputs": [
    {
     "data": {
      "text/plain": [
       "0"
      ]
     },
     "execution_count": 12,
     "metadata": {},
     "output_type": "execute_result"
    }
   ],
   "source": [
    "next(p)"
   ]
  },
  {
   "cell_type": "code",
   "execution_count": 13,
   "id": "526bffec-942b-4cad-a73e-37b6abbacb26",
   "metadata": {},
   "outputs": [
    {
     "data": {
      "text/plain": [
       "1"
      ]
     },
     "execution_count": 13,
     "metadata": {},
     "output_type": "execute_result"
    }
   ],
   "source": [
    "next(p)"
   ]
  },
  {
   "cell_type": "code",
   "execution_count": 14,
   "id": "9c8de011-1b60-4b8c-8fc5-e2c6312a64e4",
   "metadata": {},
   "outputs": [
    {
     "data": {
      "text/plain": [
       "1"
      ]
     },
     "execution_count": 14,
     "metadata": {},
     "output_type": "execute_result"
    }
   ],
   "source": [
    "next(p)"
   ]
  },
  {
   "cell_type": "code",
   "execution_count": 15,
   "id": "013f853a-e32d-4f49-b454-7437e7b16307",
   "metadata": {},
   "outputs": [
    {
     "data": {
      "text/plain": [
       "2"
      ]
     },
     "execution_count": 15,
     "metadata": {},
     "output_type": "execute_result"
    }
   ],
   "source": [
    "next(p)"
   ]
  },
  {
   "cell_type": "code",
   "execution_count": 16,
   "id": "9a126cc7-e897-4501-9972-6317c2725e49",
   "metadata": {},
   "outputs": [
    {
     "data": {
      "text/plain": [
       "3"
      ]
     },
     "execution_count": 16,
     "metadata": {},
     "output_type": "execute_result"
    }
   ],
   "source": [
    "next(p)"
   ]
  },
  {
   "cell_type": "code",
   "execution_count": null,
   "id": "5038e18c-7ff0-43ba-8cc4-6a6ac6c90693",
   "metadata": {},
   "outputs": [],
   "source": []
  },
  {
   "cell_type": "code",
   "execution_count": 17,
   "id": "d53b4bce-bb03-42d3-bdab-d51982005b47",
   "metadata": {},
   "outputs": [],
   "source": [
    "# Write a generator function in Python that yields the powers of 2 up to a given exponent."
   ]
  },
  {
   "cell_type": "code",
   "execution_count": 18,
   "id": "bab7ffd5-617c-4bf5-a032-da92c81511f4",
   "metadata": {},
   "outputs": [],
   "source": [
    "def pow(x):\n",
    "    for i in range(x):\n",
    "        yield 2**i\n",
    "        \n",
    "ob=pow(5)"
   ]
  },
  {
   "cell_type": "code",
   "execution_count": 19,
   "id": "35a67f7e-28ba-46b0-9f4d-8f3557d4b317",
   "metadata": {},
   "outputs": [
    {
     "data": {
      "text/plain": [
       "<generator object pow at 0x7fb138e020a0>"
      ]
     },
     "execution_count": 19,
     "metadata": {},
     "output_type": "execute_result"
    }
   ],
   "source": [
    "ob"
   ]
  },
  {
   "cell_type": "code",
   "execution_count": 20,
   "id": "1b099c06-5080-46aa-82cb-35584def4029",
   "metadata": {},
   "outputs": [
    {
     "data": {
      "text/plain": [
       "1"
      ]
     },
     "execution_count": 20,
     "metadata": {},
     "output_type": "execute_result"
    }
   ],
   "source": [
    "next(ob)"
   ]
  },
  {
   "cell_type": "code",
   "execution_count": 21,
   "id": "2bebf494-c51a-4c5b-b8fe-ccf77675e67b",
   "metadata": {},
   "outputs": [
    {
     "data": {
      "text/plain": [
       "2"
      ]
     },
     "execution_count": 21,
     "metadata": {},
     "output_type": "execute_result"
    }
   ],
   "source": [
    "next(ob)"
   ]
  },
  {
   "cell_type": "code",
   "execution_count": 22,
   "id": "3a1598b2-1290-485d-9449-ec4d2d574af4",
   "metadata": {},
   "outputs": [
    {
     "data": {
      "text/plain": [
       "4"
      ]
     },
     "execution_count": 22,
     "metadata": {},
     "output_type": "execute_result"
    }
   ],
   "source": [
    "next(ob)"
   ]
  },
  {
   "cell_type": "code",
   "execution_count": 23,
   "id": "a8efb30a-5f7a-4514-872a-0b6c47fc0278",
   "metadata": {},
   "outputs": [
    {
     "data": {
      "text/plain": [
       "8"
      ]
     },
     "execution_count": 23,
     "metadata": {},
     "output_type": "execute_result"
    }
   ],
   "source": [
    "next(ob)"
   ]
  },
  {
   "cell_type": "code",
   "execution_count": 24,
   "id": "7014731b-f980-4bcc-b5c7-2f5d477c7c92",
   "metadata": {},
   "outputs": [
    {
     "data": {
      "text/plain": [
       "16"
      ]
     },
     "execution_count": 24,
     "metadata": {},
     "output_type": "execute_result"
    }
   ],
   "source": [
    "next(ob)"
   ]
  },
  {
   "cell_type": "code",
   "execution_count": null,
   "id": "9d64183b-5a3e-434a-8ed1-5011e88785e8",
   "metadata": {},
   "outputs": [],
   "source": []
  },
  {
   "cell_type": "code",
   "execution_count": 25,
   "id": "d17f2a7e-c2a5-4e1f-8a2f-02dfd923e287",
   "metadata": {},
   "outputs": [],
   "source": [
    " # Implement a generator function that reads a file line by line and yields each line as a string."
   ]
  },
  {
   "cell_type": "code",
   "execution_count": 26,
   "id": "c715df20-d340-4d13-9a75-7005df2de146",
   "metadata": {
    "scrolled": true,
    "tags": []
   },
   "outputs": [],
   "source": [
    "a=\"pwskills is the best place to\\nto learn python and machine learning \\nhere the faculty is very good and supporting\""
   ]
  },
  {
   "cell_type": "code",
   "execution_count": 27,
   "id": "c4207488-f005-419d-9e4c-b2a4f57af3d1",
   "metadata": {},
   "outputs": [
    {
     "name": "stdout",
     "output_type": "stream",
     "text": [
      "pwskills is the best place to\n",
      "to learn python and machine learning \n",
      "here the faculty is very good and supporting\n"
     ]
    }
   ],
   "source": [
    "o=print(a)"
   ]
  },
  {
   "cell_type": "code",
   "execution_count": 28,
   "id": "ff344729-cb1e-4df8-be38-c317e0408dbb",
   "metadata": {},
   "outputs": [],
   "source": [
    "y=a.splitlines()"
   ]
  },
  {
   "cell_type": "code",
   "execution_count": 29,
   "id": "0b031100-014f-4e43-af6e-d2b7d6083ae8",
   "metadata": {},
   "outputs": [],
   "source": [
    "def st():\n",
    "    for i in y:\n",
    "        yield(i)\n",
    "h=st()"
   ]
  },
  {
   "cell_type": "code",
   "execution_count": 30,
   "id": "b982221f-76ea-44e1-b802-0bc1dc451dc1",
   "metadata": {},
   "outputs": [
    {
     "data": {
      "text/plain": [
       "<generator object st at 0x7fb138e027a0>"
      ]
     },
     "execution_count": 30,
     "metadata": {},
     "output_type": "execute_result"
    }
   ],
   "source": [
    "h"
   ]
  },
  {
   "cell_type": "code",
   "execution_count": 31,
   "id": "6936034e-978b-457d-aefc-8e00f3d2d862",
   "metadata": {},
   "outputs": [
    {
     "data": {
      "text/plain": [
       "'pwskills is the best place to'"
      ]
     },
     "execution_count": 31,
     "metadata": {},
     "output_type": "execute_result"
    }
   ],
   "source": [
    "next(h)"
   ]
  },
  {
   "cell_type": "code",
   "execution_count": 32,
   "id": "f223aa0a-6e10-4df4-9c6c-f580eb5cb98b",
   "metadata": {},
   "outputs": [
    {
     "data": {
      "text/plain": [
       "'to learn python and machine learning '"
      ]
     },
     "execution_count": 32,
     "metadata": {},
     "output_type": "execute_result"
    }
   ],
   "source": [
    "next(h)"
   ]
  },
  {
   "cell_type": "code",
   "execution_count": 33,
   "id": "0c2c60b7-0c8e-45cb-8029-8c8949d09ef0",
   "metadata": {},
   "outputs": [
    {
     "data": {
      "text/plain": [
       "'here the faculty is very good and supporting'"
      ]
     },
     "execution_count": 33,
     "metadata": {},
     "output_type": "execute_result"
    }
   ],
   "source": [
    "next(h)"
   ]
  },
  {
   "cell_type": "code",
   "execution_count": null,
   "id": "b99c8cb8-88a0-48b8-a532-9466e381d32b",
   "metadata": {},
   "outputs": [],
   "source": []
  },
  {
   "cell_type": "code",
   "execution_count": 34,
   "id": "328cc5aa-4e89-4cde-9b1c-ae04ae3c9aa6",
   "metadata": {},
   "outputs": [],
   "source": [
    "# Write a Python program that uses `map()` to convert a list of temperatures from Celsius to Fahrenheit."
   ]
  },
  {
   "cell_type": "code",
   "execution_count": 37,
   "id": "308bd277-c2ed-462b-b55d-6e2c867ca645",
   "metadata": {},
   "outputs": [],
   "source": [
    "temp_list=[30,35,40,45]"
   ]
  },
  {
   "cell_type": "code",
   "execution_count": 38,
   "id": "c123b71b-132f-4e23-a13c-e4b215cebb6d",
   "metadata": {},
   "outputs": [
    {
     "data": {
      "text/plain": [
       "[86.0, 95.0, 104.0, 113.0]"
      ]
     },
     "execution_count": 38,
     "metadata": {},
     "output_type": "execute_result"
    }
   ],
   "source": [
    "list(map(lambda x:(9/5 *x) +32,temp_list))"
   ]
  },
  {
   "cell_type": "code",
   "execution_count": null,
   "id": "79903a45-2781-4c15-9b21-1bc66d59ccea",
   "metadata": {},
   "outputs": [],
   "source": []
  },
  {
   "cell_type": "code",
   "execution_count": 39,
   "id": "d4fc446a-ff97-4556-ac9b-b17f82304b0b",
   "metadata": {},
   "outputs": [],
   "source": [
    "# Create a Python program that uses `filter()` to remove all the vowels from a given string."
   ]
  },
  {
   "cell_type": "code",
   "execution_count": 40,
   "id": "251ecb8d-7f92-42e1-945e-d739c019ab58",
   "metadata": {},
   "outputs": [],
   "source": [
    "vow=\"speaker\""
   ]
  },
  {
   "cell_type": "code",
   "execution_count": 41,
   "id": "4353b9fb-2118-4e6f-b1e7-1c6cd6b6de57",
   "metadata": {},
   "outputs": [
    {
     "data": {
      "text/plain": [
       "['s', 'p', 'k', 'r']"
      ]
     },
     "execution_count": 41,
     "metadata": {},
     "output_type": "execute_result"
    }
   ],
   "source": [
    "list(filter(lambda x: x if x!=\"a\" and x!=\"e\" and x!=\"i\" and x!=\"o\" and x!=\"u\" else None  ,vow))"
   ]
  },
  {
   "cell_type": "code",
   "execution_count": null,
   "id": "02314c46-92d8-402e-a30a-fb10272735df",
   "metadata": {},
   "outputs": [],
   "source": []
  },
  {
   "cell_type": "code",
   "execution_count": 42,
   "id": "cd46a7e6-712b-4607-a820-350635107943",
   "metadata": {},
   "outputs": [],
   "source": [
    "# . Use a lambda function in Python to sort a list of tuples based on the second element of each tuple."
   ]
  },
  {
   "cell_type": "code",
   "execution_count": 43,
   "id": "56477785-8227-4625-a8d5-143a886fa726",
   "metadata": {},
   "outputs": [],
   "source": [
    "list_t=[(13,42,54),(12,32,43),(21,67,5)]"
   ]
  },
  {
   "cell_type": "code",
   "execution_count": 44,
   "id": "f61b5771-3b4a-4779-ba47-ef1b38e9c760",
   "metadata": {},
   "outputs": [
    {
     "data": {
      "text/plain": [
       "(42, 32, 67)"
      ]
     },
     "execution_count": 44,
     "metadata": {},
     "output_type": "execute_result"
    }
   ],
   "source": [
    "list_t[0][1],list_t[1][1],list_t[2][1]"
   ]
  },
  {
   "cell_type": "code",
   "execution_count": null,
   "id": "bacad536-ae1a-447d-981a-7252db42f48e",
   "metadata": {},
   "outputs": [],
   "source": []
  },
  {
   "cell_type": "code",
   "execution_count": null,
   "id": "8d92d02b-d1a2-4a98-babd-9a5011383837",
   "metadata": {},
   "outputs": [],
   "source": [
    "# last question words of the question is not clear not able to understand"
   ]
  }
 ],
 "metadata": {
  "kernelspec": {
   "display_name": "Python 3 (ipykernel)",
   "language": "python",
   "name": "python3"
  },
  "language_info": {
   "codemirror_mode": {
    "name": "ipython",
    "version": 3
   },
   "file_extension": ".py",
   "mimetype": "text/x-python",
   "name": "python",
   "nbconvert_exporter": "python",
   "pygments_lexer": "ipython3",
   "version": "3.10.8"
  }
 },
 "nbformat": 4,
 "nbformat_minor": 5
}
